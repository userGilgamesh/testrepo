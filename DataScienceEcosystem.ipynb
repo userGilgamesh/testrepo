{
 "cells": [
  {
   "cell_type": "markdown",
   "id": "b58783ee-66a4-4a13-b551-6ec86419f2bf",
   "metadata": {
    "tags": []
   },
   "source": [
    "# Data Science Tools and Ecosystem"
   ]
  },
  {
   "cell_type": "markdown",
   "id": "6b71f5d8-9a50-4d71-8144-c352d39e34e5",
   "metadata": {
    "tags": []
   },
   "source": [
    "In this notebook, Data Science Tools and Ecosystem are summarized."
   ]
  },
  {
   "cell_type": "markdown",
   "id": "625498be-de2c-4c18-9361-59a0474326ab",
   "metadata": {
    "tags": []
   },
   "source": [
    "**Objectives:**\n",
    "- Python\n",
    "- R\n",
    "- Julia\n",
    "- Java"
   ]
  },
  {
   "cell_type": "code",
   "execution_count": null,
   "id": "5ce0c6a3-0adc-4e21-977c-ef55016b43e3",
   "metadata": {
    "tags": []
   },
   "outputs": [],
   "source": [
    "Some of the popular languages that Data Scientists use are:\n",
    "1. Python\n",
    "2. C++\n",
    "3. Java\n",
    "4. C"
   ]
  },
  {
   "cell_type": "markdown",
   "id": "bbe0ae4e-272e-4127-a254-80a5bf8b1d4e",
   "metadata": {},
   "source": [
    "Some of the commonly used libraries used by Data Scientists include:\n",
    "1.Numpy\n",
    "2.Panda\n",
    "3.matplotlib\n",
    "4.ggplot"
   ]
  },
  {
   "cell_type": "markdown",
   "id": "5723b616-021f-4195-bbd9-4402fd6d506c",
   "metadata": {
    "tags": []
   },
   "source": [
    "| Data Science Tools|\n",
    "|-------------------|\n",
    "| spark |\n",
    "| hadoop |\n",
    "| julia |"
   ]
  },
  {
   "cell_type": "markdown",
   "id": "87c6121a-82ef-41d4-b649-b933503c7d18",
   "metadata": {},
   "source": [
    "### Below are a few examples of evaluating arithmetic expressions in Python"
   ]
  },
  {
   "cell_type": "markdown",
   "id": "80b8259f-f986-4dad-9fd9-ce561d741370",
   "metadata": {
    "tags": []
   },
   "source": [
    "This a simple arithmetic expression to mutiply then add integers"
   ]
  },
  {
   "cell_type": "code",
   "execution_count": 12,
   "id": "cadf1db3-6a47-40d1-a994-b28f3b988964",
   "metadata": {
    "tags": []
   },
   "outputs": [
    {
     "data": {
      "text/plain": [
       "17"
      ]
     },
     "execution_count": 12,
     "metadata": {},
     "output_type": "execute_result"
    }
   ],
   "source": [
    "(3*4)+5"
   ]
  },
  {
   "cell_type": "markdown",
   "id": "4e6b5fd9-ec67-4e7a-9448-38bd03b6df26",
   "metadata": {},
   "source": [
    "This will convert 200 minutes to hours by diving by 60"
   ]
  },
  {
   "cell_type": "code",
   "execution_count": 13,
   "id": "ad90dd4f-12b8-474e-9bab-ddee7f2db803",
   "metadata": {
    "tags": []
   },
   "outputs": [
    {
     "data": {
      "text/plain": [
       "3.3333333333333335"
      ]
     },
     "execution_count": 13,
     "metadata": {},
     "output_type": "execute_result"
    }
   ],
   "source": [
    "200/60"
   ]
  },
  {
   "cell_type": "code",
   "execution_count": null,
   "id": "470f50ab-4cec-4ef4-96d1-f629e44fa1e0",
   "metadata": {},
   "outputs": [],
   "source": [
    "## Author\n",
    "FH"
   ]
  },
  {
   "cell_type": "code",
   "execution_count": null,
   "id": "6671f3dc-74eb-4f3c-8447-93bccd7f2a91",
   "metadata": {},
   "outputs": [],
   "source": []
  }
 ],
 "metadata": {
  "kernelspec": {
   "display_name": "Python",
   "language": "python",
   "name": "conda-env-python-py"
  },
  "language_info": {
   "codemirror_mode": {
    "name": "ipython",
    "version": 3
   },
   "file_extension": ".py",
   "mimetype": "text/x-python",
   "name": "python",
   "nbconvert_exporter": "python",
   "pygments_lexer": "ipython3",
   "version": "3.7.12"
  }
 },
 "nbformat": 4,
 "nbformat_minor": 5
}
